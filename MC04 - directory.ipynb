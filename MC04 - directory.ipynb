{
 "cells": [
  {
   "cell_type": "markdown",
   "metadata": {},
   "source": [
    "Media Cloud: Sources and Collections\n",
    "====================================\n",
    "\n",
    "At this point you should be ready to query Media Cloud for data. **This notebook demonstrates how to browse and download information about the media sources and collections within Media Cloud Directory**. This explores some of the API methods under the hood of our [Directory](https://search.mediacloud.org/directory), which is used to browse sources and collections in our system.\n",
    "\n",
    "Every open web news story is connected to a `media source`. A media source is basically a domain (with a handful of exceptions). Sources are grouped together into `collections`; one source can be part of many collections, and vice versa. Our primary collections are [geography-based](https://search.mediacloud.org/collections/news/geographic) (at the national and provider/state level).\n",
    "\n",
    "We regularly scrape RSS feeds from a small set of our sources (around 60k as of late 2023). We are slowly rolling out the ability to ingest stories from news stories via their sitemap files (the hard part is determining which URLs arenews story pages and what are not). We don't advise searching against our entire database, without collections or sources, because it is skewed towards the topics of investigations we and collaborating researchers have done. If you have a collection you want created, just email us and ask.\n",
    "\n",
    "Our Python API exposes a few methods that are particularly helpful for looking at sources, their associated metadata, and collections: \n",
    "\n",
    "* `collection_list`: search for collections by name\n",
    "* `source_list`: search for sources by name of parent collection\n",
    "* `source`: get information about specific source, by id\n",
    "* `feed_list`: list feeds within a source"
   ]
  },
  {
   "cell_type": "markdown",
   "metadata": {},
   "source": [
    "## Setup"
   ]
  },
  {
   "cell_type": "code",
   "execution_count": 1,
   "metadata": {},
   "outputs": [
    {
     "data": {
      "text/plain": [
       "'Using Media Cloud python client v4.4.0'"
      ]
     },
     "execution_count": 1,
     "metadata": {},
     "output_type": "execute_result"
    }
   ],
   "source": [
    "# Set up your API key and import needed things\n",
    "import os, mediacloud.api\n",
    "from importlib.metadata import version\n",
    "from dotenv import load_dotenv\n",
    "from IPython.display import JSON\n",
    "MC_API_KEY = 'MY_API_KEY'\n",
    "directory_api = mediacloud.api.DirectoryApi(MC_API_KEY)\n",
    "f'Using Media Cloud python client v{version(\"mediacloud\")}'"
   ]
  },
  {
   "cell_type": "markdown",
   "metadata": {},
   "source": [
    "## Searching for Media Sources\n",
    "\n",
    "You can search for specific media, or media matching a set of criteria."
   ]
  },
  {
   "cell_type": "code",
   "execution_count": 2,
   "metadata": {},
   "outputs": [
    {
     "data": {
      "application/json": {
       "collection_count": 17,
       "created_at": "2022-12-23T17:43:28.547804Z",
       "first_story": null,
       "homepage": "http://www.hindustantimes.com/",
       "id": 20258,
       "label": "The Hindustan Times",
       "last_rescraped": null,
       "last_rescraped_msg": null,
       "media_type": "print_native",
       "modified_at": "2025-06-14T09:45:19.163574Z",
       "name": "hindustantimes.com",
       "notes": "Edited by VD",
       "platform": "online_news",
       "primary_language": "en",
       "pub_country": "IND",
       "pub_state": "IN-DL",
       "stories_per_week": 4977,
       "url_search_string": ""
      },
      "text/plain": [
       "<IPython.core.display.JSON object>"
      ]
     },
     "execution_count": 2,
     "metadata": {
      "application/json": {
       "expanded": false,
       "root": "root"
      }
     },
     "output_type": "execute_result"
    }
   ],
   "source": [
    "# try to find a media source based on its URL\n",
    "matching_sources = directory_api.source_list(name='hindustantimes.com')\n",
    "JSON(matching_sources['results'][0])"
   ]
  },
  {
   "cell_type": "code",
   "execution_count": 3,
   "metadata": {},
   "outputs": [
    {
     "data": {
      "application/json": {
       "collection_count": 23,
       "created_at": "2022-12-23T17:43:28.547804Z",
       "first_story": null,
       "homepage": "http://www.bostonglobe.com",
       "id": 21511,
       "label": "Boston Globe",
       "last_rescraped": null,
       "last_rescraped_msg": null,
       "media_type": null,
       "modified_at": "2025-06-14T09:45:28.964016Z",
       "name": "bostonglobe.com",
       "notes": null,
       "platform": "online_news",
       "primary_language": "en",
       "pub_country": "USA",
       "pub_state": "US-MA",
       "stories_per_week": 1080,
       "url_search_string": null
      },
      "text/plain": [
       "<IPython.core.display.JSON object>"
      ]
     },
     "execution_count": 3,
     "metadata": {
      "application/json": {
       "expanded": false,
       "root": "root"
      }
     },
     "output_type": "execute_result"
    }
   ],
   "source": [
    "# or if you have an id already, you can just load the source info\n",
    "source = directory_api.source(21511)\n",
    "JSON(source) # all about the Boston Globe source"
   ]
  },
  {
   "cell_type": "markdown",
   "metadata": {},
   "source": [
    "## Media Source Feeds\n",
    "Media Sources are created manually, or automatically generated by our system when a story is ingested from a domain we have not seen before. For the limited number of sources that we ingest from daily, we have manually and automatically created RSS feeds (see our [`feed_seeker` package](https://github.com/mediacloud/feed_seeker)).\n",
    "```\n",
    "media source\n",
    "  ↳ feed\n",
    "```"
   ]
  },
  {
   "cell_type": "code",
   "execution_count": null,
   "metadata": {},
   "outputs": [],
   "source": [
    "# learn about the first result from above, which is our canonical one for the Hindustan Times\n",
    "matching_sources = directory_api.source_list(name='hindustantimes.com')\n",
    "hindustan_times = matching_sources['results'][0]\n",
    "JSON(hindustan_times)"
   ]
  },
  {
   "cell_type": "code",
   "execution_count": null,
   "metadata": {},
   "outputs": [],
   "source": [
    "# list up to the first 100 feeds associated with this media source\n",
    "hindistan_times_feeds = directory_api.feed_list(hindustan_times['id'])\n",
    "JSON(hindistan_times_feeds)"
   ]
  },
  {
   "cell_type": "markdown",
   "metadata": {},
   "source": [
    "## Collections\n",
    "Media Sources are grouped together into collections. We have tons of collections, but the geographic ones the most useful place to start investigating things. Drop us a line if you have a collection of media sources to suggest that you think would be broadly useful. We have topical ones, such as collections of media sources in the US based on partisanship, as well."
   ]
  },
  {
   "cell_type": "code",
   "execution_count": null,
   "metadata": {},
   "outputs": [],
   "source": [
    "# search for a collection by name\n",
    "nigerian_collections = directory_api.collection_list(name='nigeria')\n",
    "[c['name'] for c in nigerian_collections['results']]"
   ]
  },
  {
   "cell_type": "code",
   "execution_count": null,
   "metadata": {},
   "outputs": [],
   "source": [
    "# page through a list of all the sources in the \"Nigeria - National\" collection\n",
    "NIGERIA_NATIONAL = 38376341\n",
    "sources = []\n",
    "limit = 100\n",
    "offset = 0\n",
    "while True:\n",
    "    response = directory_api.source_list(collection_id=NIGERIA_NATIONAL, limit=limit, offset=offset)\n",
    "    sources += response['results']\n",
    "    if response['next'] is None:\n",
    "        break\n",
    "    offset += limit\n",
    "f\"Found {len(sources)} media sources in Nigeria National collection geographic collections\""
   ]
  },
  {
   "cell_type": "code",
   "execution_count": null,
   "metadata": {},
   "outputs": [],
   "source": []
  }
 ],
 "metadata": {
  "kernelspec": {
   "display_name": "Python 3 (ipykernel)",
   "language": "python",
   "name": "python3"
  },
  "language_info": {
   "codemirror_mode": {
    "name": "ipython",
    "version": 3
   },
   "file_extension": ".py",
   "mimetype": "text/x-python",
   "name": "python",
   "nbconvert_exporter": "python",
   "pygments_lexer": "ipython3",
   "version": "3.13.5"
  }
 },
 "nbformat": 4,
 "nbformat_minor": 4
}
